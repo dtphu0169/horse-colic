{
 "cells": [
  {
   "cell_type": "code",
   "execution_count": 1,
   "id": "3ca61d0e",
   "metadata": {},
   "outputs": [
    {
     "name": "stdout",
     "output_type": "stream",
     "text": [
      "(299, 28) (67, 28)\n"
     ]
    },
    {
     "data": {
      "text/html": [
       "<div>\n",
       "<style scoped>\n",
       "    .dataframe tbody tr th:only-of-type {\n",
       "        vertical-align: middle;\n",
       "    }\n",
       "\n",
       "    .dataframe tbody tr th {\n",
       "        vertical-align: top;\n",
       "    }\n",
       "\n",
       "    .dataframe thead th {\n",
       "        text-align: right;\n",
       "    }\n",
       "</style>\n",
       "<table border=\"1\" class=\"dataframe\">\n",
       "  <thead>\n",
       "    <tr style=\"text-align: right;\">\n",
       "      <th></th>\n",
       "      <th>2</th>\n",
       "      <th>1</th>\n",
       "      <th>530101</th>\n",
       "      <th>38.5</th>\n",
       "      <th>66</th>\n",
       "      <th>28</th>\n",
       "      <th>3</th>\n",
       "      <th>3.1</th>\n",
       "      <th>NaN</th>\n",
       "      <th>2.1</th>\n",
       "      <th>...</th>\n",
       "      <th>45</th>\n",
       "      <th>8.4</th>\n",
       "      <th>NaN.4</th>\n",
       "      <th>NaN.5</th>\n",
       "      <th>2.2</th>\n",
       "      <th>2.3</th>\n",
       "      <th>11300</th>\n",
       "      <th>0</th>\n",
       "      <th>0.1</th>\n",
       "      <th>2.4</th>\n",
       "    </tr>\n",
       "  </thead>\n",
       "  <tbody>\n",
       "    <tr>\n",
       "      <th>0</th>\n",
       "      <td>1.0</td>\n",
       "      <td>1</td>\n",
       "      <td>534817</td>\n",
       "      <td>39.2</td>\n",
       "      <td>88.0</td>\n",
       "      <td>20.0</td>\n",
       "      <td>NaN</td>\n",
       "      <td>NaN</td>\n",
       "      <td>4.0</td>\n",
       "      <td>1.0</td>\n",
       "      <td>...</td>\n",
       "      <td>50.0</td>\n",
       "      <td>85.0</td>\n",
       "      <td>2.0</td>\n",
       "      <td>2.0</td>\n",
       "      <td>2</td>\n",
       "      <td>2</td>\n",
       "      <td>2208</td>\n",
       "      <td>0</td>\n",
       "      <td>0</td>\n",
       "      <td>3.0</td>\n",
       "    </tr>\n",
       "    <tr>\n",
       "      <th>1</th>\n",
       "      <td>2.0</td>\n",
       "      <td>1</td>\n",
       "      <td>530334</td>\n",
       "      <td>38.3</td>\n",
       "      <td>40.0</td>\n",
       "      <td>24.0</td>\n",
       "      <td>1.0</td>\n",
       "      <td>1.0</td>\n",
       "      <td>3.0</td>\n",
       "      <td>1.0</td>\n",
       "      <td>...</td>\n",
       "      <td>33.0</td>\n",
       "      <td>6.7</td>\n",
       "      <td>NaN</td>\n",
       "      <td>NaN</td>\n",
       "      <td>1</td>\n",
       "      <td>2</td>\n",
       "      <td>0</td>\n",
       "      <td>0</td>\n",
       "      <td>0</td>\n",
       "      <td>1.0</td>\n",
       "    </tr>\n",
       "    <tr>\n",
       "      <th>2</th>\n",
       "      <td>1.0</td>\n",
       "      <td>9</td>\n",
       "      <td>5290409</td>\n",
       "      <td>39.1</td>\n",
       "      <td>164.0</td>\n",
       "      <td>84.0</td>\n",
       "      <td>4.0</td>\n",
       "      <td>1.0</td>\n",
       "      <td>6.0</td>\n",
       "      <td>2.0</td>\n",
       "      <td>...</td>\n",
       "      <td>48.0</td>\n",
       "      <td>7.2</td>\n",
       "      <td>3.0</td>\n",
       "      <td>5.3</td>\n",
       "      <td>1</td>\n",
       "      <td>1</td>\n",
       "      <td>2208</td>\n",
       "      <td>0</td>\n",
       "      <td>0</td>\n",
       "      <td>2.0</td>\n",
       "    </tr>\n",
       "    <tr>\n",
       "      <th>3</th>\n",
       "      <td>2.0</td>\n",
       "      <td>1</td>\n",
       "      <td>530255</td>\n",
       "      <td>37.3</td>\n",
       "      <td>104.0</td>\n",
       "      <td>35.0</td>\n",
       "      <td>NaN</td>\n",
       "      <td>NaN</td>\n",
       "      <td>6.0</td>\n",
       "      <td>2.0</td>\n",
       "      <td>...</td>\n",
       "      <td>74.0</td>\n",
       "      <td>7.4</td>\n",
       "      <td>NaN</td>\n",
       "      <td>NaN</td>\n",
       "      <td>2</td>\n",
       "      <td>2</td>\n",
       "      <td>4300</td>\n",
       "      <td>0</td>\n",
       "      <td>0</td>\n",
       "      <td>2.0</td>\n",
       "    </tr>\n",
       "    <tr>\n",
       "      <th>4</th>\n",
       "      <td>2.0</td>\n",
       "      <td>1</td>\n",
       "      <td>528355</td>\n",
       "      <td>NaN</td>\n",
       "      <td>NaN</td>\n",
       "      <td>NaN</td>\n",
       "      <td>2.0</td>\n",
       "      <td>1.0</td>\n",
       "      <td>3.0</td>\n",
       "      <td>1.0</td>\n",
       "      <td>...</td>\n",
       "      <td>NaN</td>\n",
       "      <td>NaN</td>\n",
       "      <td>NaN</td>\n",
       "      <td>NaN</td>\n",
       "      <td>2</td>\n",
       "      <td>2</td>\n",
       "      <td>0</td>\n",
       "      <td>0</td>\n",
       "      <td>0</td>\n",
       "      <td>1.0</td>\n",
       "    </tr>\n",
       "  </tbody>\n",
       "</table>\n",
       "<p>5 rows × 28 columns</p>\n",
       "</div>"
      ],
      "text/plain": [
       "     2  1   530101  38.5     66    28    3  3.1  NaN  2.1  ...    45   8.4  \\\n",
       "0  1.0  1   534817  39.2   88.0  20.0  NaN  NaN  4.0  1.0  ...  50.0  85.0   \n",
       "1  2.0  1   530334  38.3   40.0  24.0  1.0  1.0  3.0  1.0  ...  33.0   6.7   \n",
       "2  1.0  9  5290409  39.1  164.0  84.0  4.0  1.0  6.0  2.0  ...  48.0   7.2   \n",
       "3  2.0  1   530255  37.3  104.0  35.0  NaN  NaN  6.0  2.0  ...  74.0   7.4   \n",
       "4  2.0  1   528355   NaN    NaN   NaN  2.0  1.0  3.0  1.0  ...   NaN   NaN   \n",
       "\n",
       "   NaN.4  NaN.5  2.2  2.3  11300  0  0.1  2.4  \n",
       "0    2.0    2.0    2    2   2208  0    0  3.0  \n",
       "1    NaN    NaN    1    2      0  0    0  1.0  \n",
       "2    3.0    5.3    1    1   2208  0    0  2.0  \n",
       "3    NaN    NaN    2    2   4300  0    0  2.0  \n",
       "4    NaN    NaN    2    2      0  0    0  1.0  \n",
       "\n",
       "[5 rows x 28 columns]"
      ]
     },
     "execution_count": 1,
     "metadata": {},
     "output_type": "execute_result"
    }
   ],
   "source": [
    "#step1 getdata\n",
    "import pandas as pd\n",
    "\n",
    "dataset = pd.read_csv('data\\horse-colic_data.csv')\n",
    "testset = pd.read_csv('data\\horse-colic_test.csv')\n",
    "\n",
    "train = dataset.iloc[:, :].values\n",
    "test = testset.iloc[:, :].values\n",
    "print(dataset.shape,testset.shape)\n",
    "dataset.head()"
   ]
  },
  {
   "cell_type": "code",
   "execution_count": 2,
   "id": "cef8f031",
   "metadata": {},
   "outputs": [
    {
     "name": "stdout",
     "output_type": "stream",
     "text": [
      "2 : 1 - 0.33444816053511706%\n",
      "1 : 0 - 0.0%\n",
      "530101 : 0 - 0.0%\n",
      "38.5 : 60 - 20.066889632107024%\n",
      "66 : 24 - 8.02675585284281%\n",
      "28 : 58 - 19.39799331103679%\n",
      "3 : 56 - 18.729096989966553%\n",
      "3.1 : 69 - 23.076923076923077%\n",
      "NaN : 46 - 15.384615384615385%\n",
      "2.1 : 32 - 10.702341137123746%\n",
      "5 : 55 - 18.394648829431436%\n",
      "4 : 44 - 14.715719063545151%\n",
      "4.1 : 56 - 18.729096989966553%\n",
      "NaN.1 : 103 - 34.448160535117054%\n",
      "NaN.2 : 105 - 35.11705685618729%\n",
      "NaN.3 : 246 - 82.2742474916388%\n",
      "3.2 : 102 - 34.11371237458194%\n",
      "5.1 : 118 - 39.46488294314381%\n",
      "45 : 29 - 9.698996655518394%\n",
      "8.4 : 33 - 11.036789297658862%\n",
      "NaN.4 : 164 - 54.84949832775919%\n",
      "NaN.5 : 197 - 65.88628762541806%\n",
      "2.2 : 0 - 0.0%\n",
      "2.3 : 0 - 0.0%\n",
      "11300 : 0 - 0.0%\n",
      "0 : 0 - 0.0%\n",
      "0.1 : 0 - 0.0%\n",
      "2.4 : 1 - 0.33444816053511706%\n"
     ]
    }
   ],
   "source": [
    "for col in dataset.columns:\n",
    "    missingdata = dataset[col].isna().sum()\n",
    "    missingpercent = missingdata/len(dataset) *100\n",
    "    print(f\"{col} : {missingdata} - {missingpercent}%\")"
   ]
  },
  {
   "cell_type": "code",
   "execution_count": 3,
   "id": "d813d23f",
   "metadata": {
    "scrolled": false
   },
   "outputs": [
    {
     "data": {
      "text/plain": [
       "array([1.00000e+00, 1.00000e+00, 5.34817e+05, 3.92000e+01, 8.80000e+01,\n",
       "       2.00000e+01, 3.00000e+00, 1.50000e+00, 4.00000e+00, 1.00000e+00,\n",
       "       3.00000e+00, 4.00000e+00, 2.00000e+00, 2.00000e+00, 1.00000e+00,\n",
       "       5.00000e+00, 4.00000e+00, 2.00000e+00, 5.00000e+01, 8.50000e+01,\n",
       "       2.00000e+00, 2.00000e+00, 2.00000e+00, 2.00000e+00, 2.20800e+03,\n",
       "       0.00000e+00, 0.00000e+00, 3.00000e+00])"
      ]
     },
     "execution_count": 3,
     "metadata": {},
     "output_type": "execute_result"
    }
   ],
   "source": [
    "#step2 missing value\n",
    "from sklearn.impute import SimpleImputer\n",
    "import numpy as np\n",
    "imputer = SimpleImputer(strategy='median', missing_values=np.nan)\n",
    "imputer.fit(train[:,:])\n",
    "train[:,:] = imputer.transform(train[:,:])\n",
    "\n",
    "imputer.fit(test[:,:])\n",
    "test[:,:] = imputer.transform(test[:,:])\n",
    "\n",
    "\n",
    "train[0,:]"
   ]
  },
  {
   "cell_type": "code",
   "execution_count": 4,
   "id": "f71aab82",
   "metadata": {},
   "outputs": [],
   "source": [
    "ytrain = train[:, 27]\n",
    "Xtrain = train[:, 0:27]\n",
    "ytest = test[:, 27]\n",
    "Xtest = test[:, 0:27]"
   ]
  },
  {
   "cell_type": "code",
   "execution_count": 5,
   "id": "f2030eaf",
   "metadata": {},
   "outputs": [
    {
     "name": "stdout",
     "output_type": "stream",
     "text": [
      "[ 5.92325  3.38016  3.72394  0.45685 21.03423  0.70311 17.43297 23.25174\n",
      " 29.48647 15.79734 22.08077 14.88479 19.29765  0.2401   6.8179   3.41959\n",
      "  6.60065  8.53215 29.8234  23.3252  10.20216  4.25335  3.52712 19.59652\n",
      "  1.54735  1.51088  0.3337 ]\n",
      "[[ 1.5  4.   3.  50.  85. ]\n",
      " [ 1.   3.   3.  33.   6.7]\n",
      " [ 1.   6.   2.  48.   7.2]\n",
      " [ 1.5  6.   3.  74.   7.4]\n",
      " [ 1.   3.   2.  45.   7.5]]\n"
     ]
    }
   ],
   "source": [
    "#step3 feature extraction\n",
    "import numpy\n",
    "from pandas import read_csv\n",
    "from numpy import set_printoptions\n",
    "from sklearn.feature_selection import SelectKBest\n",
    "from sklearn.feature_selection import f_classif\n",
    "from sklearn.feature_selection import RFE\n",
    "from sklearn.linear_model import LogisticRegression\n",
    "from sklearn.decomposition import PCA\n",
    "from sklearn.ensemble import ExtraTreesClassifier\n",
    "\n",
    "#1\n",
    "# For classification: chi2, f_classif, mutual_info_classif\n",
    "check = SelectKBest(score_func=f_classif, k=5)\n",
    "fit = check.fit(Xtrain, ytrain)\n",
    "set_printoptions(precision=5)\n",
    "print(fit.scores_)\n",
    "Xtrain = fit.transform(Xtrain)\n",
    "Xtest = fit.transform(Xtest)\n",
    "print(Xtrain[0:5,:])\n",
    "\n",
    "#2\n",
    "# model = LogisticRegression(solver='lbfgs')\n",
    "# rfe = RFE(model, 5)\n",
    "# fit = rfe.fit(Xtrain, ytrain)\n",
    "# print(\"Num Features: %d\" % fit.n_features_)\n",
    "# print(\"Selected Features: %s\" % fit.support_)\n",
    "# print(\"Feature Ranking: %s\" % fit.ranking_)\n",
    "# Xtrain = train[:, [6,9,10,22,23]]\n",
    "# Xtest = test[:, [6,9,10,22,23]]\n",
    "\n",
    "# #3\n",
    "# from sklearn.decomposition import PCA\n",
    "# # feature extraction\n",
    "# pca = PCA(n_components=5)\n",
    "# fit = pca.fit(Xtrain)\n",
    "# # summarize components\n",
    "# print(fit.components_)\n",
    "\n",
    "#4\n",
    "# from sklearn.ensemble import ExtraTreesClassifier\n",
    "# # feature extraction\n",
    "# model = ExtraTreesClassifier(n_estimators=10)\n",
    "# model.fit(Xtrain, ytrain)\n",
    "# # Xtrain = train[:, [0,8,10,18,19]]\n",
    "# # Xtest = test[:, [0,8,10,18,19]]       \n",
    "# print(model.feature_importances_)"
   ]
  },
  {
   "cell_type": "code",
   "execution_count": 6,
   "id": "761c49ea",
   "metadata": {
    "scrolled": true
   },
   "outputs": [],
   "source": [
    "#step4 scale\n",
    "from sklearn.preprocessing import StandardScaler\n",
    "sc = StandardScaler()\n",
    "Xtrain = sc.fit_transform(Xtrain)\n",
    "Xtest = sc.fit_transform(Xtest)\n",
    "\n",
    "# from sklearn import preprocessing\n",
    "# mm_scaler = preprocessing.MinMaxScaler()\n",
    "# Xtrain = mm_scaler.fit_transform(Xtrain)\n",
    "# Xtest = mm_scaler.transform(Xtest)\n"
   ]
  },
  {
   "cell_type": "code",
   "execution_count": 7,
   "id": "fdb65e36",
   "metadata": {},
   "outputs": [
    {
     "data": {
      "text/plain": [
       "array([[-0.42085,  0.75498,  0.03982,  0.38615,  2.35848],\n",
       "       [-0.95404,  0.08314,  0.03982, -1.32958, -0.60282],\n",
       "       [-0.95404,  2.09867, -0.81069,  0.1843 , -0.58391],\n",
       "       ...,\n",
       "       [ 1.17873,  0.75498,  0.89033,  1.3954 , -0.59904],\n",
       "       [ 1.17873,  0.08314,  0.03982,  0.38615, -0.62929],\n",
       "       [-0.42085,  0.08314,  0.03982, -1.0268 ,  1.48863]])"
      ]
     },
     "execution_count": 7,
     "metadata": {},
     "output_type": "execute_result"
    }
   ],
   "source": [
    "Xtrain"
   ]
  },
  {
   "cell_type": "code",
   "execution_count": 8,
   "id": "2370c71c",
   "metadata": {},
   "outputs": [],
   "source": [
    "# step5 Discretization\n",
    "import pandas as pd\n",
    "\n",
    "from sklearn import preprocessing\n",
    "# endoce : onehot,onehot-dense,ordinal\n",
    "# strategy{‘uniform’, ‘quantile’, ‘kmeans’}, default=’quantile’\n",
    "est = preprocessing.KBinsDiscretizer(n_bins=5, encode='ordinal', strategy='uniform', dtype=None)\n",
    "est.fit(Xtrain)\n",
    "# for i in range(0,4):\n",
    "#     print(est.bin_edges_[i])\n",
    "Xtrain = est.transform(Xtrain)\n",
    "Xtest = est.transform(Xtest)"
   ]
  },
  {
   "cell_type": "markdown",
   "id": "3dfbc17f",
   "metadata": {},
   "source": [
    "# DecisionTree"
   ]
  },
  {
   "cell_type": "code",
   "execution_count": 9,
   "id": "fcaee502",
   "metadata": {},
   "outputs": [
    {
     "data": {
      "text/plain": [
       "DecisionTreeClassifier(criterion='entropy', random_state=0)"
      ]
     },
     "execution_count": 9,
     "metadata": {},
     "output_type": "execute_result"
    }
   ],
   "source": [
    "from sklearn.tree import DecisionTreeClassifier\n",
    "classifier = DecisionTreeClassifier(criterion='entropy',random_state=0) #Entropy: used to identify the roo\n",
    "classifier.fit(Xtrain,ytrain)"
   ]
  },
  {
   "cell_type": "code",
   "execution_count": 10,
   "id": "de18c9ae",
   "metadata": {},
   "outputs": [],
   "source": [
    "y_predTree = classifier.predict(Xtest)"
   ]
  },
  {
   "cell_type": "code",
   "execution_count": 11,
   "id": "aee2ac9f",
   "metadata": {},
   "outputs": [
    {
     "name": "stdout",
     "output_type": "stream",
     "text": [
      "DecisionTree\n",
      "precision:  0.5083333333333333\n",
      "accuracy:  0.6716417910447762\n",
      "recall:  0.5056146572104019\n",
      "f1:  0.5055258467023173\n"
     ]
    }
   ],
   "source": [
    "from sklearn import metrics\n",
    "\n",
    "precisionTree = metrics.precision_score(ytest, y_predTree,average=\"macro\")\n",
    "accuracyTree = metrics.accuracy_score(ytest, y_predTree)\n",
    "recallTree = metrics.recall_score(ytest, y_predTree,average=\"macro\")\n",
    "f1Tree = metrics.f1_score(ytest, y_predTree[ ...],average=\"macro\")\n",
    "\n",
    "print('DecisionTree')\n",
    "print('precision: ',precisionTree)\n",
    "print('accuracy: ',accuracyTree)\n",
    "print('recall: ',recallTree)\n",
    "print('f1: ',f1Tree)"
   ]
  },
  {
   "cell_type": "markdown",
   "id": "2386bfd5",
   "metadata": {},
   "source": [
    "# KNN"
   ]
  },
  {
   "cell_type": "code",
   "execution_count": 12,
   "id": "f934e5dc",
   "metadata": {},
   "outputs": [
    {
     "name": "stdout",
     "output_type": "stream",
     "text": [
      "[0.6567164179104478, 0.7313432835820896, 0.6716417910447762, 0.746268656716418, 0.7164179104477612, 0.746268656716418, 0.7164179104477612, 0.7164179104477612, 0.7611940298507462, 0.7761194029850746, 0.7611940298507462, 0.7611940298507462, 0.7611940298507462, 0.7611940298507462, 0.7313432835820896]\n",
      "0.7761194029850746\n",
      "19\n"
     ]
    }
   ],
   "source": [
    "from sklearn.neighbors import KNeighborsClassifier\n",
    "from sklearn import metrics \n",
    "\n",
    "accuracy = []\n",
    "precision = []\n",
    "value = 0\n",
    "bestk = 0\n",
    "\n",
    "for n in range(1,30,2):\n",
    "    model = KNeighborsClassifier(n_neighbors=n)\n",
    "    model.fit(Xtrain, ytrain)\n",
    "    y_pred = model.predict(Xtest)\n",
    "    acu = metrics.accuracy_score(ytest, y_pred)\n",
    "    accuracy.append(acu)\n",
    "    if (value < acu):\n",
    "        value = acu\n",
    "        bestk = n\n",
    "   \n",
    "print(accuracy)\n",
    "print(value)\n",
    "print(bestk)"
   ]
  },
  {
   "cell_type": "code",
   "execution_count": 13,
   "id": "b3434439",
   "metadata": {},
   "outputs": [],
   "source": [
    "from sklearn.neighbors import KNeighborsClassifier\n",
    "from sklearn.metrics import precision_score \n",
    "\n",
    "model = KNeighborsClassifier(n_neighbors=bestk)\n",
    "model.fit(Xtrain, ytrain)\n",
    "y_predknn = model.predict(Xtest)"
   ]
  },
  {
   "cell_type": "code",
   "execution_count": 14,
   "id": "64f8e822",
   "metadata": {},
   "outputs": [
    {
     "name": "stdout",
     "output_type": "stream",
     "text": [
      "KNN\n",
      "precision:  0.8089017900338655\n",
      "accuracy:  0.7761194029850746\n",
      "recall:  0.568853427895981\n",
      "f1:  0.5740740740740741\n"
     ]
    }
   ],
   "source": [
    "precisionKNN = metrics.precision_score(ytest, y_predknn,average=\"macro\")\n",
    "accuracyKNN = metrics.accuracy_score(ytest, y_predknn)\n",
    "recallKNN = metrics.recall_score(ytest, y_predknn,average=\"macro\")\n",
    "f1KNN = metrics.f1_score(ytest, y_predknn[ ...],average=\"macro\")\n",
    "\n",
    "print('KNN')\n",
    "print('precision: ',precisionKNN)\n",
    "print('accuracy: ',accuracyKNN)\n",
    "print('recall: ',recallKNN)\n",
    "print('f1: ',f1KNN)"
   ]
  },
  {
   "cell_type": "markdown",
   "id": "e0994b92",
   "metadata": {},
   "source": [
    "# SVM"
   ]
  },
  {
   "cell_type": "code",
   "execution_count": 15,
   "id": "acf570dc",
   "metadata": {},
   "outputs": [
    {
     "name": "stdout",
     "output_type": "stream",
     "text": [
      "[0.746268656716418, 0.7910447761194029, 0.746268656716418, 0.47761194029850745]\n",
      "0.7910447761194029\n",
      "poly\n"
     ]
    }
   ],
   "source": [
    "from sklearn import svm\n",
    "from sklearn import metrics \n",
    "\n",
    "mode = ['linear', 'poly', 'rbf', 'sigmoid']\n",
    "\n",
    "accuracy = []\n",
    "precision = []\n",
    "temp = 0\n",
    "step = '0'\n",
    "\n",
    "for n in mode:\n",
    "    clf = svm.SVC(kernel=n)\n",
    "    clf.fit(Xtrain, ytrain)\n",
    "    y_pred = clf.predict(Xtest)\n",
    "    acu = metrics.accuracy_score(ytest, y_pred)\n",
    "    accuracy.append(acu)\n",
    "    if (temp < acu):\n",
    "        temp = acu\n",
    "        step = n\n",
    "print(accuracy)\n",
    "print(temp)\n",
    "print(step)"
   ]
  },
  {
   "cell_type": "code",
   "execution_count": 16,
   "id": "d440dd83",
   "metadata": {},
   "outputs": [],
   "source": [
    "from sklearn import svm\n",
    "\n",
    "clf = svm.SVC(kernel=step)\n",
    "clf.fit(Xtrain, ytrain)\n",
    "y_predsvm = clf.predict(Xtest)"
   ]
  },
  {
   "cell_type": "code",
   "execution_count": 17,
   "id": "31cdbf04",
   "metadata": {},
   "outputs": [
    {
     "name": "stdout",
     "output_type": "stream",
     "text": [
      "SVM\n",
      "precision:  0.8141025641025642\n",
      "accuracy:  0.7910447761194029\n",
      "recall:  0.6105200945626478\n",
      "f1:  0.6362289562289561\n"
     ]
    }
   ],
   "source": [
    "precisionSVM = metrics.precision_score(ytest, y_predsvm,average=\"macro\")\n",
    "accuracySVM = metrics.accuracy_score(ytest, y_predsvm)\n",
    "recallSVM = metrics.recall_score(ytest, y_predsvm,average=\"macro\")\n",
    "f1SVM = metrics.f1_score(ytest, y_predsvm[ ...],average=\"macro\")\n",
    "\n",
    "print('SVM')\n",
    "print('precision: ',precisionSVM)\n",
    "print('accuracy: ',accuracySVM)\n",
    "print('recall: ',recallSVM)\n",
    "print('f1: ',f1SVM)"
   ]
  },
  {
   "cell_type": "markdown",
   "id": "35070aba",
   "metadata": {},
   "source": [
    "# SUMARY"
   ]
  },
  {
   "cell_type": "code",
   "execution_count": 18,
   "id": "9c11a068",
   "metadata": {
    "scrolled": true
   },
   "outputs": [
    {
     "name": "stdout",
     "output_type": "stream",
     "text": [
      "DecisionTree\n",
      "precision:  0.5083333333333333\n",
      "accuracy:  0.6716417910447762\n",
      "recall:  0.5056146572104019\n",
      "f1:  0.5055258467023173\n",
      "KNN\n",
      "precision:  0.8089017900338655\n",
      "accuracy:  0.7761194029850746\n",
      "recall:  0.568853427895981\n",
      "f1:  0.5740740740740741\n",
      "SVM\n",
      "precision:  0.8141025641025642\n",
      "accuracy:  0.7910447761194029\n",
      "recall:  0.6105200945626478\n",
      "f1:  0.6362289562289561\n"
     ]
    }
   ],
   "source": [
    "print('DecisionTree')\n",
    "print('precision: ',precisionTree)\n",
    "print('accuracy: ',accuracyTree)\n",
    "print('recall: ',recallTree)\n",
    "print('f1: ',f1Tree)\n",
    "\n",
    "print('KNN')\n",
    "print('precision: ',precisionKNN)\n",
    "print('accuracy: ',accuracyKNN)\n",
    "print('recall: ',recallKNN)\n",
    "print('f1: ',f1KNN)\n",
    "\n",
    "print('SVM')\n",
    "print('precision: ',precisionSVM)\n",
    "print('accuracy: ',accuracySVM)\n",
    "print('recall: ',recallSVM)\n",
    "print('f1: ',f1SVM)"
   ]
  },
  {
   "cell_type": "code",
   "execution_count": 19,
   "id": "f13684f0",
   "metadata": {},
   "outputs": [
    {
     "name": "stdout",
     "output_type": "stream",
     "text": [
      "Tree:  [0.64865 0.61644 0.57534 0.68493 0.71233]\n",
      "knn:  [0.62162 0.68493 0.75342 0.64384 0.67123]\n",
      "SVM:  [0.66216 0.65753 0.79452 0.65753 0.71233]\n"
     ]
    }
   ],
   "source": [
    "from sklearn.model_selection import cross_val_score\n",
    "X = np.append(Xtrain[:, :] , Xtest[:, :],axis=0)\n",
    "y = np.append(ytrain , ytest)\n",
    "scores = cross_val_score(model, X, y, cv=5)\n",
    "print('Tree: ',cross_val_score(classifier, X, y, cv=5))\n",
    "print('knn: ',cross_val_score(model, X, y, cv=5))\n",
    "print('SVM: ',cross_val_score(clf, X, y, cv=5))"
   ]
  },
  {
   "cell_type": "code",
   "execution_count": null,
   "id": "98ad5bf8",
   "metadata": {},
   "outputs": [],
   "source": []
  }
 ],
 "metadata": {
  "kernelspec": {
   "display_name": "Python 3 (ipykernel)",
   "language": "python",
   "name": "python3"
  },
  "language_info": {
   "codemirror_mode": {
    "name": "ipython",
    "version": 3
   },
   "file_extension": ".py",
   "mimetype": "text/x-python",
   "name": "python",
   "nbconvert_exporter": "python",
   "pygments_lexer": "ipython3",
   "version": "3.9.7"
  }
 },
 "nbformat": 4,
 "nbformat_minor": 5
}
