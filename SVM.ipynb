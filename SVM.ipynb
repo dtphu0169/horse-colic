{
 "cells": [
  {
   "cell_type": "code",
   "execution_count": 1,
   "id": "473966dc",
   "metadata": {},
   "outputs": [],
   "source": [
    "import pandas as pd\n",
    "\n",
    "dataset = pd.read_csv('data\\horse-colic_data.csv')\n",
    "testset = pd.read_csv('data\\horse-colic_test.csv')\n",
    "\n",
    "train = dataset.iloc[:, :].values\n",
    "test = testset.iloc[:, :].values"
   ]
  },
  {
   "cell_type": "code",
   "execution_count": 2,
   "id": "ef3d825c",
   "metadata": {},
   "outputs": [],
   "source": [
    "from sklearn.impute import SimpleImputer\n",
    "import numpy as np\n",
    "imputer = SimpleImputer(strategy='most_frequent', missing_values=np.nan)\n",
    "imputer.fit(train[:,:])\n",
    "train[:,:] = imputer.transform(train[:,:])\n",
    "\n",
    "imputer.fit(test[:,:])\n",
    "test[:,:] = imputer.transform(test[:,:])\n"
   ]
  },
  {
   "cell_type": "code",
   "execution_count": 3,
   "id": "abfb575e",
   "metadata": {},
   "outputs": [],
   "source": [
    "ytrain = train[:, 27]\n",
    "Xtrain = train[:, 0:26]\n",
    "ytest = test[:, 27]\n",
    "Xtest = test[:, 0:26]"
   ]
  },
  {
   "cell_type": "code",
   "execution_count": 4,
   "id": "4910a78c",
   "metadata": {},
   "outputs": [],
   "source": [
    "from sklearn.preprocessing import StandardScaler\n",
    "sc = StandardScaler()\n",
    "Xtrain = sc.fit_transform(Xtrain)\n",
    "Xtest = sc.fit_transform(Xtest)"
   ]
  },
  {
   "cell_type": "code",
   "execution_count": 5,
   "id": "317cd122",
   "metadata": {},
   "outputs": [
    {
     "name": "stdout",
     "output_type": "stream",
     "text": [
      "[0.6716417910447762, 0.7761194029850746, 0.7164179104477612, 0.7164179104477612]\n",
      "0.7761194029850746\n",
      "poly\n"
     ]
    }
   ],
   "source": [
    "from sklearn import svm\n",
    "from sklearn import metrics \n",
    "\n",
    "mode = ['linear', 'poly', 'rbf', 'sigmoid']\n",
    "\n",
    "accuracy = []\n",
    "precision = []\n",
    "temp = 0\n",
    "step = '0'\n",
    "\n",
    "for n in mode:\n",
    "    clf = svm.SVC(kernel=n)\n",
    "    clf.fit(Xtrain, ytrain)\n",
    "    y_pred = clf.predict(Xtest)\n",
    "    acu = metrics.accuracy_score(ytest, y_pred)\n",
    "    accuracy.append(acu)\n",
    "    if (temp < acu):\n",
    "        temp = acu\n",
    "        step = n\n",
    "print(accuracy)\n",
    "print(temp)\n",
    "print(step)"
   ]
  },
  {
   "cell_type": "code",
   "execution_count": null,
   "id": "06b983a0",
   "metadata": {},
   "outputs": [],
   "source": []
  }
 ],
 "metadata": {
  "kernelspec": {
   "display_name": "Python 3 (ipykernel)",
   "language": "python",
   "name": "python3"
  },
  "language_info": {
   "codemirror_mode": {
    "name": "ipython",
    "version": 3
   },
   "file_extension": ".py",
   "mimetype": "text/x-python",
   "name": "python",
   "nbconvert_exporter": "python",
   "pygments_lexer": "ipython3",
   "version": "3.9.7"
  }
 },
 "nbformat": 4,
 "nbformat_minor": 5
}
