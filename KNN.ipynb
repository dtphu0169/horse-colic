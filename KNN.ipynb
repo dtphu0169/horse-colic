{
 "cells": [
  {
   "cell_type": "code",
   "execution_count": 1,
   "id": "7234e691",
   "metadata": {},
   "outputs": [],
   "source": [
    "import pandas as pd\n",
    "from sklearn.impute import SimpleImputer\n",
    "import numpy as np\n",
    "\n",
    "dataset = pd.read_csv('data\\horse-colic_data.csv')\n",
    "testset = pd.read_csv('data\\horse-colic_test.csv')\n",
    "\n",
    "train = dataset.iloc[:, :].values\n",
    "test = testset.iloc[:, :].values\n",
    "\n",
    "imputer = SimpleImputer(strategy='median', missing_values=np.nan)\n",
    "imputer.fit(train[:,:])\n",
    "train[:,:] = imputer.transform(train[:,:])\n",
    "imputer.fit(test[:,:])\n",
    "test[:,:] = imputer.transform(test[:,:])\n",
    "\n",
    "ytrain = train[:, 27]\n",
    "Xtrain = train[:, 0:26]\n",
    "ytest = test[:, 27]\n",
    "Xtest = test[:, 0:26]"
   ]
  },
  {
   "cell_type": "code",
   "execution_count": 2,
   "id": "047ecea9",
   "metadata": {},
   "outputs": [],
   "source": [
    "# gop chung\n",
    "# from sklearn.model_selection import train_test_split\n",
    "# dataset = pd.read_csv('data\\horse-colic.csv')\n",
    "\n",
    "# data = dataset.iloc[:, :].values\n",
    "# imputer = SimpleImputer(strategy='median', missing_values=np.nan)\n",
    "# imputer.fit(data[:,:])\n",
    "# data[:,:] = imputer.transform(data[:,:])\n",
    "# X = data[:, 0:26]\n",
    "# y = data[:, 27]\n",
    "# Xtrain, Xtest, ytrain, ytest = train_test_split(X, y, test_size = 0.2, random_state =0)"
   ]
  },
  {
   "cell_type": "code",
   "execution_count": 3,
   "id": "5f670208",
   "metadata": {},
   "outputs": [],
   "source": [
    "from sklearn.preprocessing import StandardScaler\n",
    "sc = StandardScaler()\n",
    "Xtrain = sc.fit_transform(Xtrain)\n",
    "Xtest = sc.fit_transform(Xtest)"
   ]
  },
  {
   "cell_type": "code",
   "execution_count": 4,
   "id": "528a9db0",
   "metadata": {},
   "outputs": [
    {
     "name": "stdout",
     "output_type": "stream",
     "text": [
      "[0.6417910447761194, 0.7313432835820896, 0.7313432835820896, 0.7164179104477612, 0.7313432835820896, 0.7014925373134329, 0.6865671641791045, 0.7014925373134329, 0.7014925373134329, 0.6865671641791045, 0.7611940298507462, 0.746268656716418, 0.746268656716418, 0.746268656716418, 0.7313432835820896]\n",
      "0.7611940298507462\n",
      "21\n"
     ]
    }
   ],
   "source": [
    "from sklearn.neighbors import KNeighborsClassifier\n",
    "from sklearn import metrics \n",
    "\n",
    "accuracy = []\n",
    "precision = []\n",
    "temp = 0\n",
    "step = 0\n",
    "\n",
    "for n in range(1,30,2):\n",
    "    model = KNeighborsClassifier(n_neighbors=n)\n",
    "    model.fit(Xtrain, ytrain)\n",
    "    y_pred = model.predict(Xtest)\n",
    "    acu = metrics.accuracy_score(ytest, y_pred)\n",
    "    accuracy.append(acu)\n",
    "    if (temp < acu):\n",
    "        temp = acu\n",
    "        step = n\n",
    "   \n",
    "print(accuracy)\n",
    "print(temp)\n",
    "print(step)"
   ]
  },
  {
   "cell_type": "code",
   "execution_count": null,
   "id": "89c86fa8",
   "metadata": {},
   "outputs": [],
   "source": []
  }
 ],
 "metadata": {
  "kernelspec": {
   "display_name": "Python 3 (ipykernel)",
   "language": "python",
   "name": "python3"
  },
  "language_info": {
   "codemirror_mode": {
    "name": "ipython",
    "version": 3
   },
   "file_extension": ".py",
   "mimetype": "text/x-python",
   "name": "python",
   "nbconvert_exporter": "python",
   "pygments_lexer": "ipython3",
   "version": "3.9.7"
  }
 },
 "nbformat": 4,
 "nbformat_minor": 5
}
